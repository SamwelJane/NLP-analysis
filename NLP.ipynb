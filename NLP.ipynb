{
  "nbformat": 4,
  "nbformat_minor": 0,
  "metadata": {
    "colab": {
      "name": "NLP.ipynb",
      "provenance": [],
      "authorship_tag": "ABX9TyO0iX134Y3cph9VULK/bZte",
      "include_colab_link": true
    },
    "kernelspec": {
      "name": "python3",
      "display_name": "Python 3"
    }
  },
  "cells": [
    {
      "cell_type": "markdown",
      "metadata": {
        "id": "view-in-github",
        "colab_type": "text"
      },
      "source": [
        "<a href=\"https://colab.research.google.com/github/SamwelJane/NLP-analysis/blob/master/NLP.ipynb\" target=\"_parent\"><img src=\"https://colab.research.google.com/assets/colab-badge.svg\" alt=\"Open In Colab\"/></a>"
      ]
    },
    {
      "cell_type": "markdown",
      "metadata": {
        "id": "oTyfzhxorsbj",
        "colab_type": "text"
      },
      "source": [
        "The aim of this analysis was to determine whether a statement was real or not *real*"
      ]
    },
    {
      "cell_type": "code",
      "metadata": {
        "id": "5poSNx8cR5wx",
        "colab_type": "code",
        "colab": {}
      },
      "source": [
        "!pip install nlppreprocess"
      ],
      "execution_count": null,
      "outputs": []
    },
    {
      "cell_type": "code",
      "metadata": {
        "id": "Sh_hxvsYIZ24",
        "colab_type": "code",
        "colab": {}
      },
      "source": [
        "# libraries\n",
        "import pandas as pd\n",
        "import numpy as np\n",
        "import os\n",
        "import re\n",
        "from nlppreprocess import NLP"
      ],
      "execution_count": 14,
      "outputs": []
    },
    {
      "cell_type": "code",
      "metadata": {
        "id": "ySnoJMX_KcYK",
        "colab_type": "code",
        "colab": {}
      },
      "source": [
        "#load train and test dataset\n",
        "train= pd.read_csv('train.csv')\n",
        "test= pd.read_csv('test.csv')"
      ],
      "execution_count": 4,
      "outputs": []
    },
    {
      "cell_type": "code",
      "metadata": {
        "id": "k2J3dHAbLCqv",
        "colab_type": "code",
        "colab": {
          "base_uri": "https://localhost:8080/",
          "height": 71
        },
        "outputId": "17f18d12-c650-491d-9598-bdab2bc2b540"
      },
      "source": [
        "# dataset overview\n",
        "print('shape of train and test sets are:',train.shape,test.shape)\n",
        "print('columns of the sets are:', train.columns,test.columns)"
      ],
      "execution_count": 6,
      "outputs": [
        {
          "output_type": "stream",
          "text": [
            "shape of train and test sets are: (7613, 5) (3263, 4)\n",
            "columns of the sets are: Index(['id', 'keyword', 'location', 'text', 'target'], dtype='object') Index(['id', 'keyword', 'location', 'text'], dtype='object')\n"
          ],
          "name": "stdout"
        }
      ]
    },
    {
      "cell_type": "code",
      "metadata": {
        "id": "ajbh45s3QpyK",
        "colab_type": "code",
        "colab": {
          "base_uri": "https://localhost:8080/",
          "height": 204
        },
        "outputId": "f7e57a8f-275d-475b-8349-8ba2980681ef"
      },
      "source": [
        "train.head()"
      ],
      "execution_count": 10,
      "outputs": [
        {
          "output_type": "execute_result",
          "data": {
            "text/html": [
              "<div>\n",
              "<style scoped>\n",
              "    .dataframe tbody tr th:only-of-type {\n",
              "        vertical-align: middle;\n",
              "    }\n",
              "\n",
              "    .dataframe tbody tr th {\n",
              "        vertical-align: top;\n",
              "    }\n",
              "\n",
              "    .dataframe thead th {\n",
              "        text-align: right;\n",
              "    }\n",
              "</style>\n",
              "<table border=\"1\" class=\"dataframe\">\n",
              "  <thead>\n",
              "    <tr style=\"text-align: right;\">\n",
              "      <th></th>\n",
              "      <th>id</th>\n",
              "      <th>keyword</th>\n",
              "      <th>location</th>\n",
              "      <th>text</th>\n",
              "      <th>target</th>\n",
              "    </tr>\n",
              "  </thead>\n",
              "  <tbody>\n",
              "    <tr>\n",
              "      <th>0</th>\n",
              "      <td>1</td>\n",
              "      <td>NaN</td>\n",
              "      <td>NaN</td>\n",
              "      <td>Our Deeds are the Reason of this #earthquake M...</td>\n",
              "      <td>1</td>\n",
              "    </tr>\n",
              "    <tr>\n",
              "      <th>1</th>\n",
              "      <td>4</td>\n",
              "      <td>NaN</td>\n",
              "      <td>NaN</td>\n",
              "      <td>Forest fire near La Ronge Sask. Canada</td>\n",
              "      <td>1</td>\n",
              "    </tr>\n",
              "    <tr>\n",
              "      <th>2</th>\n",
              "      <td>5</td>\n",
              "      <td>NaN</td>\n",
              "      <td>NaN</td>\n",
              "      <td>All residents asked to 'shelter in place' are ...</td>\n",
              "      <td>1</td>\n",
              "    </tr>\n",
              "    <tr>\n",
              "      <th>3</th>\n",
              "      <td>6</td>\n",
              "      <td>NaN</td>\n",
              "      <td>NaN</td>\n",
              "      <td>13,000 people receive #wildfires evacuation or...</td>\n",
              "      <td>1</td>\n",
              "    </tr>\n",
              "    <tr>\n",
              "      <th>4</th>\n",
              "      <td>7</td>\n",
              "      <td>NaN</td>\n",
              "      <td>NaN</td>\n",
              "      <td>Just got sent this photo from Ruby #Alaska as ...</td>\n",
              "      <td>1</td>\n",
              "    </tr>\n",
              "  </tbody>\n",
              "</table>\n",
              "</div>"
            ],
            "text/plain": [
              "   id keyword  ...                                               text target\n",
              "0   1     NaN  ...  Our Deeds are the Reason of this #earthquake M...      1\n",
              "1   4     NaN  ...             Forest fire near La Ronge Sask. Canada      1\n",
              "2   5     NaN  ...  All residents asked to 'shelter in place' are ...      1\n",
              "3   6     NaN  ...  13,000 people receive #wildfires evacuation or...      1\n",
              "4   7     NaN  ...  Just got sent this photo from Ruby #Alaska as ...      1\n",
              "\n",
              "[5 rows x 5 columns]"
            ]
          },
          "metadata": {
            "tags": []
          },
          "execution_count": 10
        }
      ]
    },
    {
      "cell_type": "code",
      "metadata": {
        "id": "5E-bYXRKLUV4",
        "colab_type": "code",
        "colab": {}
      },
      "source": [
        "# remove urls from the texts\n",
        "def remove_urls(text):\n",
        "  return re.sub(r\"http\\S+\",\"\",text)\n",
        "  \"\"\"re.sub(a,b,c))\n",
        "  ->it means that, in text 'c' we find 'a' and replace it with 'b'\n",
        "   \"\"\"\n",
        "train['text'] = train['text'].apply(remove_urls)\n",
        "test['text'] = test['text'].apply(remove_urls)"
      ],
      "execution_count": 12,
      "outputs": []
    },
    {
      "cell_type": "code",
      "metadata": {
        "id": "MbzOkqbvPnc2",
        "colab_type": "code",
        "colab": {}
      },
      "source": [
        "# Install nlp to remove stop words such as i, we, have\n",
        "nlp =NLP()\n",
        "train['text'] = train['text'].apply(nlp.process)\n",
        "test['text']= test['text'].apply(nlp.process)"
      ],
      "execution_count": 16,
      "outputs": []
    },
    {
      "cell_type": "code",
      "metadata": {
        "id": "72XKqm5WRyq8",
        "colab_type": "code",
        "colab": {}
      },
      "source": [
        "# tokenizing the text\n",
        "from tensorflow import keras\n",
        "from keras_preprocessing.text import Tokenizer as toke\n",
        "token= Tokenizer(num_words=10000)\n",
        "token.fit_on_texts(train['text'])\n",
        "sequences = token.texts_to_sequences(train['text'])\n",
        "\n",
        "\n",
        "token_test =toke(num_words=5000)\n",
        "token_test.fit_on_texts(test['text'])\n",
        "sequences_test = token_test.texts_to_sequences(test['text'])"
      ],
      "execution_count": 24,
      "outputs": []
    },
    {
      "cell_type": "code",
      "metadata": {
        "id": "S4boqFFyVr16",
        "colab_type": "code",
        "colab": {}
      },
      "source": [
        "# keras preprocessing  will help to trim length text to a uniform length\n",
        "from keras.preprocessing.sequence import pad_sequences\n",
        "input_tensor= pad_sequences(sequences,maxlen=30)\n",
        "test_tensor=pad_sequences(sequences_test,maxlen=30)"
      ],
      "execution_count": 28,
      "outputs": []
    },
    {
      "cell_type": "code",
      "metadata": {
        "id": "q8oWsEyTYDfY",
        "colab_type": "code",
        "colab": {}
      },
      "source": [
        "# train test split of data\n",
        "from sklearn.model_selection import  train_test_split\n",
        "X_train, X_test,y_train, y_test = train_test_split(input_tensor,train['target'], test_size = 0.3)"
      ],
      "execution_count": 32,
      "outputs": []
    },
    {
      "cell_type": "markdown",
      "metadata": {
        "id": "RO6uqO_masO0",
        "colab_type": "text"
      },
      "source": [
        "## Model"
      ]
    },
    {
      "cell_type": "code",
      "metadata": {
        "id": "4LONyqXYZN4C",
        "colab_type": "code",
        "colab": {
          "base_uri": "https://localhost:8080/",
          "height": 357
        },
        "outputId": "16178cbe-377b-4755-a813-1c9a82859824"
      },
      "source": [
        "model =keras.Sequential()\n",
        "model.add(keras.layers.Embedding(100000, 64))\n",
        "model.add(keras.layers.LSTM(64,recurrent_dropout = 0.5, return_sequences = True))\n",
        "\n",
        "model.add(keras.layers.LSTM(64,return_sequences=True))\n",
        "model.add(keras.layers.LSTM(32))\n",
        "model.add(keras.layers.Dense(32, activation='relu'))\n",
        "model.add(keras.layers.Dense(1,activation='sigmoid'))\n",
        "model.summary()"
      ],
      "execution_count": 38,
      "outputs": [
        {
          "output_type": "stream",
          "text": [
            "Model: \"sequential_3\"\n",
            "_________________________________________________________________\n",
            "Layer (type)                 Output Shape              Param #   \n",
            "=================================================================\n",
            "embedding_3 (Embedding)      (None, None, 64)          6400000   \n",
            "_________________________________________________________________\n",
            "lstm_3 (LSTM)                (None, None, 64)          33024     \n",
            "_________________________________________________________________\n",
            "lstm_4 (LSTM)                (None, None, 64)          33024     \n",
            "_________________________________________________________________\n",
            "lstm_5 (LSTM)                (None, 32)                12416     \n",
            "_________________________________________________________________\n",
            "dense (Dense)                (None, 32)                1056      \n",
            "_________________________________________________________________\n",
            "dense_1 (Dense)              (None, 1)                 33        \n",
            "=================================================================\n",
            "Total params: 6,479,553\n",
            "Trainable params: 6,479,553\n",
            "Non-trainable params: 0\n",
            "_________________________________________________________________\n"
          ],
          "name": "stdout"
        }
      ]
    },
    {
      "cell_type": "code",
      "metadata": {
        "id": "BYfq1y2ebn-K",
        "colab_type": "code",
        "colab": {
          "base_uri": "https://localhost:8080/",
          "height": 714
        },
        "outputId": "683b179a-482e-414e-9d70-4b004b504a75"
      },
      "source": [
        "model.compile(optimizer='adam',metrics=['accuracy'],loss='binary_crossentropy')\n",
        "model.fit(X_train,y_train,batch_size=100,epochs=20)"
      ],
      "execution_count": 40,
      "outputs": [
        {
          "output_type": "stream",
          "text": [
            "Epoch 1/20\n",
            "54/54 [==============================] - 9s 162ms/step - loss: 0.6409 - accuracy: 0.6343\n",
            "Epoch 2/20\n",
            "54/54 [==============================] - 9s 159ms/step - loss: 0.3862 - accuracy: 0.8373\n",
            "Epoch 3/20\n",
            "54/54 [==============================] - 9s 160ms/step - loss: 0.2549 - accuracy: 0.9009\n",
            "Epoch 4/20\n",
            "54/54 [==============================] - 9s 159ms/step - loss: 0.1832 - accuracy: 0.9353\n",
            "Epoch 5/20\n",
            "54/54 [==============================] - 9s 158ms/step - loss: 0.1449 - accuracy: 0.9523\n",
            "Epoch 6/20\n",
            "54/54 [==============================] - 9s 158ms/step - loss: 0.1226 - accuracy: 0.9600\n",
            "Epoch 7/20\n",
            "54/54 [==============================] - 9s 159ms/step - loss: 0.1019 - accuracy: 0.9657\n",
            "Epoch 8/20\n",
            "54/54 [==============================] - 9s 159ms/step - loss: 0.0900 - accuracy: 0.9707\n",
            "Epoch 9/20\n",
            "54/54 [==============================] - 9s 159ms/step - loss: 0.0814 - accuracy: 0.9735\n",
            "Epoch 10/20\n",
            "54/54 [==============================] - 9s 159ms/step - loss: 0.0745 - accuracy: 0.9741\n",
            "Epoch 11/20\n",
            "54/54 [==============================] - 9s 159ms/step - loss: 0.0572 - accuracy: 0.9777\n",
            "Epoch 12/20\n",
            "54/54 [==============================] - 8s 157ms/step - loss: 0.0546 - accuracy: 0.9777\n",
            "Epoch 13/20\n",
            "54/54 [==============================] - 9s 163ms/step - loss: 0.0554 - accuracy: 0.9758\n",
            "Epoch 14/20\n",
            "54/54 [==============================] - 9s 161ms/step - loss: 0.0493 - accuracy: 0.9797\n",
            "Epoch 15/20\n",
            "54/54 [==============================] - 9s 162ms/step - loss: 0.0473 - accuracy: 0.9792\n",
            "Epoch 16/20\n",
            "54/54 [==============================] - 9s 161ms/step - loss: 0.0427 - accuracy: 0.9788\n",
            "Epoch 17/20\n",
            "54/54 [==============================] - 9s 161ms/step - loss: 0.0411 - accuracy: 0.9810\n",
            "Epoch 18/20\n",
            "54/54 [==============================] - 9s 160ms/step - loss: 0.0352 - accuracy: 0.9825\n",
            "Epoch 19/20\n",
            "54/54 [==============================] - 9s 164ms/step - loss: 0.0371 - accuracy: 0.9824\n",
            "Epoch 20/20\n",
            "54/54 [==============================] - 9s 161ms/step - loss: 0.0337 - accuracy: 0.9827\n"
          ],
          "name": "stdout"
        },
        {
          "output_type": "execute_result",
          "data": {
            "text/plain": [
              "<tensorflow.python.keras.callbacks.History at 0x7fdee69800b8>"
            ]
          },
          "metadata": {
            "tags": []
          },
          "execution_count": 40
        }
      ]
    },
    {
      "cell_type": "markdown",
      "metadata": {
        "id": "XebNkSiTewDp",
        "colab_type": "text"
      },
      "source": [
        "## Model Evaluation"
      ]
    },
    {
      "cell_type": "code",
      "metadata": {
        "id": "sCy-Z0jLepzV",
        "colab_type": "code",
        "colab": {
          "base_uri": "https://localhost:8080/",
          "height": 51
        },
        "outputId": "f9211f05-3a14-4039-c270-4b6e958be0e0"
      },
      "source": [
        "evaluation= model.evaluate(X_test,y_test)\n",
        "print(evaluation)"
      ],
      "execution_count": 41,
      "outputs": [
        {
          "output_type": "stream",
          "text": [
            "72/72 [==============================] - 1s 13ms/step - loss: 1.4659 - accuracy: 0.7496\n",
            "[1.4658560752868652, 0.74956214427948]\n"
          ],
          "name": "stdout"
        }
      ]
    },
    {
      "cell_type": "code",
      "metadata": {
        "id": "SsST9V66e_tt",
        "colab_type": "code",
        "colab": {
          "base_uri": "https://localhost:8080/",
          "height": 34
        },
        "outputId": "d6921076-40ba-493a-9eb4-7fc30f049f8e"
      },
      "source": [
        "rid= np.array(test.id)\n",
        "rid"
      ],
      "execution_count": 42,
      "outputs": [
        {
          "output_type": "execute_result",
          "data": {
            "text/plain": [
              "array([    0,     2,     3, ..., 10868, 10874, 10875])"
            ]
          },
          "metadata": {
            "tags": []
          },
          "execution_count": 42
        }
      ]
    },
    {
      "cell_type": "code",
      "metadata": {
        "id": "vxm7av0MfWu4",
        "colab_type": "code",
        "colab": {}
      },
      "source": [
        "# fitting the train and test in the predict model\n",
        "fine =model.predict_classes(test_tensor)\n",
        "fine=fine.flatten()\n",
        "df=pd.DataFrame({'ID':rid, 'target':fine})\n",
        "df.to_csv('answer.csv')"
      ],
      "execution_count": 45,
      "outputs": []
    },
    {
      "cell_type": "code",
      "metadata": {
        "id": "GIN9BLZblNWD",
        "colab_type": "code",
        "colab": {}
      },
      "source": [
        "# convert the  answers to csv\n",
        "dd = pd.read_csv('answer.csv')"
      ],
      "execution_count": 51,
      "outputs": []
    },
    {
      "cell_type": "code",
      "metadata": {
        "id": "pXrcK6JTl2aT",
        "colab_type": "code",
        "colab": {}
      },
      "source": [
        "dd=dd.drop(columns=['Unnamed: 0'])"
      ],
      "execution_count": 53,
      "outputs": []
    },
    {
      "cell_type": "code",
      "metadata": {
        "id": "yYi2xaXWpgFZ",
        "colab_type": "code",
        "colab": {
          "base_uri": "https://localhost:8080/",
          "height": 204
        },
        "outputId": "e9b6f40a-9f5c-48ac-b9db-11ddf9f24f7c"
      },
      "source": [
        "dd.head()"
      ],
      "execution_count": 54,
      "outputs": [
        {
          "output_type": "execute_result",
          "data": {
            "text/html": [
              "<div>\n",
              "<style scoped>\n",
              "    .dataframe tbody tr th:only-of-type {\n",
              "        vertical-align: middle;\n",
              "    }\n",
              "\n",
              "    .dataframe tbody tr th {\n",
              "        vertical-align: top;\n",
              "    }\n",
              "\n",
              "    .dataframe thead th {\n",
              "        text-align: right;\n",
              "    }\n",
              "</style>\n",
              "<table border=\"1\" class=\"dataframe\">\n",
              "  <thead>\n",
              "    <tr style=\"text-align: right;\">\n",
              "      <th></th>\n",
              "      <th>ID</th>\n",
              "      <th>target</th>\n",
              "    </tr>\n",
              "  </thead>\n",
              "  <tbody>\n",
              "    <tr>\n",
              "      <th>0</th>\n",
              "      <td>0</td>\n",
              "      <td>1</td>\n",
              "    </tr>\n",
              "    <tr>\n",
              "      <th>1</th>\n",
              "      <td>2</td>\n",
              "      <td>0</td>\n",
              "    </tr>\n",
              "    <tr>\n",
              "      <th>2</th>\n",
              "      <td>3</td>\n",
              "      <td>1</td>\n",
              "    </tr>\n",
              "    <tr>\n",
              "      <th>3</th>\n",
              "      <td>9</td>\n",
              "      <td>1</td>\n",
              "    </tr>\n",
              "    <tr>\n",
              "      <th>4</th>\n",
              "      <td>11</td>\n",
              "      <td>1</td>\n",
              "    </tr>\n",
              "  </tbody>\n",
              "</table>\n",
              "</div>"
            ],
            "text/plain": [
              "   ID  target\n",
              "0   0       1\n",
              "1   2       0\n",
              "2   3       1\n",
              "3   9       1\n",
              "4  11       1"
            ]
          },
          "metadata": {
            "tags": []
          },
          "execution_count": 54
        }
      ]
    },
    {
      "cell_type": "code",
      "metadata": {
        "id": "33ZvJmQypuiY",
        "colab_type": "code",
        "colab": {
          "base_uri": "https://localhost:8080/",
          "height": 68
        },
        "outputId": "4e0b2b4a-1fea-46c0-a0e9-aad73b211ec1"
      },
      "source": [
        "# total number of real and not real\n",
        "dd.target.value_counts()"
      ],
      "execution_count": 56,
      "outputs": [
        {
          "output_type": "execute_result",
          "data": {
            "text/plain": [
              "0    1778\n",
              "1    1485\n",
              "Name: target, dtype: int64"
            ]
          },
          "metadata": {
            "tags": []
          },
          "execution_count": 56
        }
      ]
    },
    {
      "cell_type": "code",
      "metadata": {
        "id": "v8OUs7bcp69-",
        "colab_type": "code",
        "colab": {
          "base_uri": "https://localhost:8080/",
          "height": 267
        },
        "outputId": "6cd0a116-3441-46b4-8bc9-0075fb2607c1"
      },
      "source": [
        "import matplotlib.pyplot as plt\n",
        "\n",
        "hls = dd[\"ID\"].sample(2)\n",
        "edl = dd[\"target\"].unique().tolist()\n",
        "explode = [0,0.1]\n",
        "\n",
        "plt.pie(hls, explode=explode, labels=edl, autopct = '%1.1f%%', shadow = True)\n",
        "plt.axis('equal')\n",
        "plt.title('Target : Real and not Real')\n",
        "plt.show()\n"
      ],
      "execution_count": 63,
      "outputs": [
        {
          "output_type": "display_data",
          "data": {
            "image/png": "[encoded data removed]",
            "text/plain": [
              "<Figure size 432x288 with 1 Axes>"
            ]
          },
          "metadata": {
            "tags": []
          }
        }
      ]
    },
    {
      "cell_type": "markdown",
      "metadata": {
        "id": "1Evh_kSeracz",
        "colab_type": "text"
      },
      "source": [
        "* Real: 1,\n",
        "\n",
        "* Not`real : 0"
      ]
    },
    {
      "cell_type": "code",
      "metadata": {
        "id": "PysxVk-SqxgT",
        "colab_type": "code",
        "colab": {}
      },
      "source": [
        ""
      ],
      "execution_count": null,
      "outputs": []
    }
  ]
}